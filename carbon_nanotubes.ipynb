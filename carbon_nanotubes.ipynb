{
 "metadata": {
  "language_info": {
   "codemirror_mode": {
    "name": "ipython",
    "version": 3
   },
   "file_extension": ".py",
   "mimetype": "text/x-python",
   "name": "python",
   "nbconvert_exporter": "python",
   "pygments_lexer": "ipython3",
   "version": "3.8.5-final"
  },
  "orig_nbformat": 2,
  "kernelspec": {
   "name": "python_defaultSpec_1600640214892",
   "display_name": "Python 3.8.5 64-bit"
  }
 },
 "nbformat": 4,
 "nbformat_minor": 2,
 "cells": [
  {
   "source": [
    "# Data Processing"
   ],
   "cell_type": "markdown",
   "metadata": {}
  },
  {
   "source": [
    "import numpy as np\n",
    "import matplotlib.pyplot as plt\n",
    "import pandas as pd"
   ],
   "cell_type": "code",
   "metadata": {},
   "execution_count": 1,
   "outputs": []
  },
  {
   "cell_type": "code",
   "execution_count": 2,
   "metadata": {},
   "outputs": [],
   "source": [
    "dataset = pd.read_csv(\"carbon_nanotubes.csv\",sep=';',engine='python',thousands=\",\")"
   ]
  },
  {
   "cell_type": "code",
   "execution_count": 3,
   "metadata": {},
   "outputs": [
    {
     "output_type": "execute_result",
     "data": {
      "text/plain": "   Chiral indice n  Chiral indice m  Initial atomic coordinate u  \\\n0                2                1                       679005   \n1                2                1                       717298   \n2                2                1                       489336   \n3                2                1                       413957   \n4                2                1                       334292   \n\n   Initial atomic coordinate v  Initial atomic coordinate w  \\\n0                       701318                        17033   \n1                       642129                       231319   \n2                       303751                        88462   \n3                       632996                        40843   \n4                       543401                        15989   \n\n   Calculated atomic coordinates u'  Calculated atomic coordinates v'  \\\n0                            721039                            730232   \n1                            738414                             65675   \n2                            477676                            263221   \n3                            408823                            657897   \n4                            303349                            558807   \n\n   Calculated atomic coordinates w'  \n0                             17014  \n1                            232369  \n2                             88712  \n3                             39796  \n4                            157373  ",
      "text/html": "<div>\n<style scoped>\n    .dataframe tbody tr th:only-of-type {\n        vertical-align: middle;\n    }\n\n    .dataframe tbody tr th {\n        vertical-align: top;\n    }\n\n    .dataframe thead th {\n        text-align: right;\n    }\n</style>\n<table border=\"1\" class=\"dataframe\">\n  <thead>\n    <tr style=\"text-align: right;\">\n      <th></th>\n      <th>Chiral indice n</th>\n      <th>Chiral indice m</th>\n      <th>Initial atomic coordinate u</th>\n      <th>Initial atomic coordinate v</th>\n      <th>Initial atomic coordinate w</th>\n      <th>Calculated atomic coordinates u'</th>\n      <th>Calculated atomic coordinates v'</th>\n      <th>Calculated atomic coordinates w'</th>\n    </tr>\n  </thead>\n  <tbody>\n    <tr>\n      <th>0</th>\n      <td>2</td>\n      <td>1</td>\n      <td>679005</td>\n      <td>701318</td>\n      <td>17033</td>\n      <td>721039</td>\n      <td>730232</td>\n      <td>17014</td>\n    </tr>\n    <tr>\n      <th>1</th>\n      <td>2</td>\n      <td>1</td>\n      <td>717298</td>\n      <td>642129</td>\n      <td>231319</td>\n      <td>738414</td>\n      <td>65675</td>\n      <td>232369</td>\n    </tr>\n    <tr>\n      <th>2</th>\n      <td>2</td>\n      <td>1</td>\n      <td>489336</td>\n      <td>303751</td>\n      <td>88462</td>\n      <td>477676</td>\n      <td>263221</td>\n      <td>88712</td>\n    </tr>\n    <tr>\n      <th>3</th>\n      <td>2</td>\n      <td>1</td>\n      <td>413957</td>\n      <td>632996</td>\n      <td>40843</td>\n      <td>408823</td>\n      <td>657897</td>\n      <td>39796</td>\n    </tr>\n    <tr>\n      <th>4</th>\n      <td>2</td>\n      <td>1</td>\n      <td>334292</td>\n      <td>543401</td>\n      <td>15989</td>\n      <td>303349</td>\n      <td>558807</td>\n      <td>157373</td>\n    </tr>\n  </tbody>\n</table>\n</div>"
     },
     "metadata": {},
     "execution_count": 3
    }
   ],
   "source": [
    "dataset.head()"
   ]
  },
  {
   "cell_type": "code",
   "execution_count": 4,
   "metadata": {
    "tags": []
   },
   "outputs": [
    {
     "output_type": "stream",
     "name": "stdout",
     "text": "<class 'pandas.core.frame.DataFrame'>\nRangeIndex: 10721 entries, 0 to 10720\nData columns (total 8 columns):\n #   Column                            Non-Null Count  Dtype\n---  ------                            --------------  -----\n 0   Chiral indice n                   10721 non-null  int64\n 1   Chiral indice m                   10721 non-null  int64\n 2   Initial atomic coordinate u       10721 non-null  int64\n 3   Initial atomic coordinate v       10721 non-null  int64\n 4   Initial atomic coordinate w       10721 non-null  int64\n 5   Calculated atomic coordinates u'  10721 non-null  int64\n 6   Calculated atomic coordinates v'  10721 non-null  int64\n 7   Calculated atomic coordinates w'  10721 non-null  int64\ndtypes: int64(8)\nmemory usage: 670.2 KB\n"
    }
   ],
   "source": [
    "dataset.info()"
   ]
  },
  {
   "cell_type": "code",
   "execution_count": 5,
   "metadata": {},
   "outputs": [],
   "source": [
    "X = dataset.iloc[:, :5].values\n",
    "y = dataset.iloc[:, 5:8].values"
   ]
  },
  {
   "source": [
    "# Data Splitting"
   ],
   "cell_type": "markdown",
   "metadata": {}
  },
  {
   "cell_type": "code",
   "execution_count": 6,
   "metadata": {},
   "outputs": [],
   "source": [
    "from sklearn.model_selection import train_test_split\n",
    "X_train,X_test,y_train,y_test = train_test_split(X,y,test_size=0.2,random_state=1)"
   ]
  },
  {
   "source": [
    "# Linear Regression"
   ],
   "cell_type": "markdown",
   "metadata": {}
  },
  {
   "cell_type": "code",
   "execution_count": 7,
   "metadata": {},
   "outputs": [
    {
     "output_type": "execute_result",
     "data": {
      "text/plain": "LinearRegression()"
     },
     "metadata": {},
     "execution_count": 7
    }
   ],
   "source": [
    "from sklearn.linear_model import LinearRegression\n",
    "lin_regressor = LinearRegression()\n",
    "lin_regressor.fit(X_train,y_train)"
   ]
  },
  {
   "cell_type": "code",
   "execution_count": 8,
   "metadata": {},
   "outputs": [],
   "source": [
    "y_pred = lin_regressor.predict(X_test)"
   ]
  },
  {
   "cell_type": "code",
   "execution_count": 9,
   "metadata": {},
   "outputs": [
    {
     "output_type": "execute_result",
     "data": {
      "text/plain": "array([[645867.02769922, 232948.27235688, 804553.30640149]])"
     },
     "metadata": {},
     "execution_count": 9
    }
   ],
   "source": [
    "lin_regressor.predict([[8,5,789606,90759,924299]])"
   ]
  },
  {
   "cell_type": "code",
   "execution_count": 12,
   "metadata": {},
   "outputs": [
    {
     "output_type": "execute_result",
     "data": {
      "text/plain": "0.5548830954871101"
     },
     "metadata": {},
     "execution_count": 12
    }
   ],
   "source": [
    "from sklearn.metrics import r2_score\n",
    "r2_score(y_test,y_pred)"
   ]
  },
  {
   "source": [
    "# Polynomial Regression"
   ],
   "cell_type": "markdown",
   "metadata": {}
  },
  {
   "cell_type": "code",
   "execution_count": 33,
   "metadata": {},
   "outputs": [
    {
     "output_type": "execute_result",
     "data": {
      "text/plain": "LinearRegression()"
     },
     "metadata": {},
     "execution_count": 33
    }
   ],
   "source": [
    "from sklearn.preprocessing import PolynomialFeatures\n",
    "poly_reg = PolynomialFeatures(degree = 3)\n",
    "X_poly = poly_reg.fit_transform(X_train)\n",
    "lin_regressor2 = LinearRegression()\n",
    "lin_regressor2.fit(X_poly, y_train)"
   ]
  },
  {
   "cell_type": "code",
   "execution_count": 34,
   "metadata": {},
   "outputs": [],
   "source": [
    "y_pred2 = lin_regressor2.predict(poly_reg.fit_transform(X_test))"
   ]
  },
  {
   "cell_type": "code",
   "execution_count": 36,
   "metadata": {},
   "outputs": [
    {
     "output_type": "execute_result",
     "data": {
      "text/plain": "0.6167686102173328"
     },
     "metadata": {},
     "execution_count": 36
    }
   ],
   "source": [
    "from sklearn.metrics import r2_score\n",
    "r2_score(y_test,y_pred2)"
   ]
  },
  {
   "source": [
    "# Decision Tree"
   ],
   "cell_type": "markdown",
   "metadata": {}
  },
  {
   "cell_type": "code",
   "execution_count": 65,
   "metadata": {},
   "outputs": [
    {
     "output_type": "execute_result",
     "data": {
      "text/plain": "DecisionTreeRegressor(min_samples_leaf=30, random_state=0)"
     },
     "metadata": {},
     "execution_count": 65
    }
   ],
   "source": [
    "from sklearn.tree import DecisionTreeRegressor\n",
    "des_tree = DecisionTreeRegressor(min_samples_leaf=30,random_state=0)\n",
    "des_tree.fit(X_train,y_train)"
   ]
  },
  {
   "cell_type": "code",
   "execution_count": 66,
   "metadata": {},
   "outputs": [],
   "source": [
    "y_pred3 = des_tree.predict(X_test)"
   ]
  },
  {
   "cell_type": "code",
   "execution_count": 67,
   "metadata": {},
   "outputs": [
    {
     "output_type": "execute_result",
     "data": {
      "text/plain": "0.6192389027413043"
     },
     "metadata": {},
     "execution_count": 67
    }
   ],
   "source": [
    "from sklearn.metrics import r2_score\n",
    "r2_score(y_test,y_pred3)"
   ]
  },
  {
   "source": [
    "# Random Forest"
   ],
   "cell_type": "markdown",
   "metadata": {}
  },
  {
   "cell_type": "code",
   "execution_count": 74,
   "metadata": {},
   "outputs": [
    {
     "output_type": "execute_result",
     "data": {
      "text/plain": "RandomForestRegressor(min_samples_leaf=30, n_estimators=25, random_state=0)"
     },
     "metadata": {},
     "execution_count": 74
    }
   ],
   "source": [
    "from sklearn.ensemble import RandomForestRegressor\n",
    "ran_for = RandomForestRegressor(n_estimators=25,min_samples_leaf=30,random_state=0)\n",
    "ran_for.fit(X_train,y_train)"
   ]
  },
  {
   "cell_type": "code",
   "execution_count": 75,
   "metadata": {},
   "outputs": [],
   "source": [
    "y_pred4 = ran_for.predict(X_test)"
   ]
  },
  {
   "cell_type": "code",
   "execution_count": 76,
   "metadata": {},
   "outputs": [
    {
     "output_type": "execute_result",
     "data": {
      "text/plain": "0.6365957580779129"
     },
     "metadata": {},
     "execution_count": 76
    }
   ],
   "source": [
    "from sklearn.metrics import r2_score\n",
    "r2_score(y_test,y_pred4)"
   ]
  },
  {
   "source": [
    "# SVR"
   ],
   "cell_type": "markdown",
   "metadata": {}
  },
  {
   "source": [
    "## Feature Selection"
   ],
   "cell_type": "markdown",
   "metadata": {}
  },
  {
   "cell_type": "code",
   "execution_count": 77,
   "metadata": {},
   "outputs": [],
   "source": [
    "from sklearn.preprocessing import StandardScaler\n",
    "sc_X = StandardScaler()\n",
    "sc_y = StandardScaler()\n",
    "Xtrain_sc = sc_X.fit_transform(X_train)\n",
    "ytrain_sc = sc_y.fit_transform(y_train)"
   ]
  }
 ]
}