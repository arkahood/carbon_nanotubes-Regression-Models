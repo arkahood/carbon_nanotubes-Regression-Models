{
 "metadata": {
  "language_info": {
   "codemirror_mode": {
    "name": "ipython",
    "version": 3
   },
   "file_extension": ".py",
   "mimetype": "text/x-python",
   "name": "python",
   "nbconvert_exporter": "python",
   "pygments_lexer": "ipython3",
   "version": "3.8.5-final"
  },
  "orig_nbformat": 2,
  "kernelspec": {
   "name": "python_defaultSpec_1600563453605",
   "display_name": "Python 3.8.5 64-bit"
  }
 },
 "nbformat": 4,
 "nbformat_minor": 2,
 "cells": [
  {
   "source": [
    "# Data Processing"
   ],
   "cell_type": "markdown",
   "metadata": {}
  },
  {
   "source": [
    "import numpy as np\n",
    "import matplotlib.pyplot as plt\n",
    "import pandas as pd"
   ],
   "cell_type": "code",
   "metadata": {},
   "execution_count": 1,
   "outputs": []
  },
  {
   "cell_type": "code",
   "execution_count": 2,
   "metadata": {},
   "outputs": [],
   "source": [
    "dataset = pd.read_csv(\"carbon_nanotubes.csv\",sep=';',engine='python')"
   ]
  },
  {
   "cell_type": "code",
   "execution_count": 3,
   "metadata": {},
   "outputs": [
    {
     "output_type": "execute_result",
     "data": {
      "text/plain": "   Chiral indice n  Chiral indice m Initial atomic coordinate u  \\\n0                2                1                    0,679005   \n1                2                1                    0,717298   \n2                2                1                    0,489336   \n3                2                1                    0,413957   \n4                2                1                    0,334292   \n\n  Initial atomic coordinate v Initial atomic coordinate w  \\\n0                    0,701318                    0,017033   \n1                    0,642129                    0,231319   \n2                    0,303751                    0,088462   \n3                    0,632996                    0,040843   \n4                    0,543401                     0,15989   \n\n  Calculated atomic coordinates u' Calculated atomic coordinates v'  \\\n0                         0,721039                         0,730232   \n1                         0,738414                          0,65675   \n2                         0,477676                         0,263221   \n3                         0,408823                         0,657897   \n4                         0,303349                         0,558807   \n\n  Calculated atomic coordinates w'  \n0                         0,017014  \n1                         0,232369  \n2                         0,088712  \n3                         0,039796  \n4                         0,157373  ",
      "text/html": "<div>\n<style scoped>\n    .dataframe tbody tr th:only-of-type {\n        vertical-align: middle;\n    }\n\n    .dataframe tbody tr th {\n        vertical-align: top;\n    }\n\n    .dataframe thead th {\n        text-align: right;\n    }\n</style>\n<table border=\"1\" class=\"dataframe\">\n  <thead>\n    <tr style=\"text-align: right;\">\n      <th></th>\n      <th>Chiral indice n</th>\n      <th>Chiral indice m</th>\n      <th>Initial atomic coordinate u</th>\n      <th>Initial atomic coordinate v</th>\n      <th>Initial atomic coordinate w</th>\n      <th>Calculated atomic coordinates u'</th>\n      <th>Calculated atomic coordinates v'</th>\n      <th>Calculated atomic coordinates w'</th>\n    </tr>\n  </thead>\n  <tbody>\n    <tr>\n      <th>0</th>\n      <td>2</td>\n      <td>1</td>\n      <td>0,679005</td>\n      <td>0,701318</td>\n      <td>0,017033</td>\n      <td>0,721039</td>\n      <td>0,730232</td>\n      <td>0,017014</td>\n    </tr>\n    <tr>\n      <th>1</th>\n      <td>2</td>\n      <td>1</td>\n      <td>0,717298</td>\n      <td>0,642129</td>\n      <td>0,231319</td>\n      <td>0,738414</td>\n      <td>0,65675</td>\n      <td>0,232369</td>\n    </tr>\n    <tr>\n      <th>2</th>\n      <td>2</td>\n      <td>1</td>\n      <td>0,489336</td>\n      <td>0,303751</td>\n      <td>0,088462</td>\n      <td>0,477676</td>\n      <td>0,263221</td>\n      <td>0,088712</td>\n    </tr>\n    <tr>\n      <th>3</th>\n      <td>2</td>\n      <td>1</td>\n      <td>0,413957</td>\n      <td>0,632996</td>\n      <td>0,040843</td>\n      <td>0,408823</td>\n      <td>0,657897</td>\n      <td>0,039796</td>\n    </tr>\n    <tr>\n      <th>4</th>\n      <td>2</td>\n      <td>1</td>\n      <td>0,334292</td>\n      <td>0,543401</td>\n      <td>0,15989</td>\n      <td>0,303349</td>\n      <td>0,558807</td>\n      <td>0,157373</td>\n    </tr>\n  </tbody>\n</table>\n</div>"
     },
     "metadata": {},
     "execution_count": 3
    }
   ],
   "source": [
    "dataset.head()"
   ]
  },
  {
   "cell_type": "code",
   "execution_count": 4,
   "metadata": {
    "tags": []
   },
   "outputs": [
    {
     "output_type": "stream",
     "name": "stdout",
     "text": "<class 'pandas.core.frame.DataFrame'>\nRangeIndex: 10721 entries, 0 to 10720\nData columns (total 8 columns):\n #   Column                            Non-Null Count  Dtype \n---  ------                            --------------  ----- \n 0   Chiral indice n                   10721 non-null  int64 \n 1   Chiral indice m                   10721 non-null  int64 \n 2   Initial atomic coordinate u       10721 non-null  object\n 3   Initial atomic coordinate v       10721 non-null  object\n 4   Initial atomic coordinate w       10721 non-null  object\n 5   Calculated atomic coordinates u'  10721 non-null  object\n 6   Calculated atomic coordinates v'  10721 non-null  object\n 7   Calculated atomic coordinates w'  10721 non-null  object\ndtypes: int64(2), object(6)\nmemory usage: 670.2+ KB\n"
    }
   ],
   "source": [
    "dataset.info()"
   ]
  },
  {
   "cell_type": "code",
   "execution_count": null,
   "metadata": {},
   "outputs": [],
   "source": []
  }
 ]
}